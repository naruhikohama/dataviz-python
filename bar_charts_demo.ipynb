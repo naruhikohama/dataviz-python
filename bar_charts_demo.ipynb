{
 "cells": [
  {
   "cell_type": "code",
   "execution_count": 1,
   "metadata": {},
   "outputs": [],
   "source": [
    "import pandas as pd\n",
    "import matplotlib.pyplot as plt"
   ]
  },
  {
   "cell_type": "code",
   "execution_count": 2,
   "metadata": {},
   "outputs": [
    {
     "data": {
      "text/plain": [
       "<BarContainer object of 5 artists>"
      ]
     },
     "execution_count": 2,
     "metadata": {},
     "output_type": "execute_result"
    },
    {
     "data": {
      "image/png": "[encoded data removed]",
      "text/plain": [
       "<Figure size 432x288 with 1 Axes>"
      ]
     },
     "metadata": {
      "needs_background": "light"
     },
     "output_type": "display_data"
    }
   ],
   "source": [
    "fig, ax = plt.subplots()\n",
    "\n",
    "labels = [\"E\", 'D', 'C', 'B', 'A']\n",
    "data = [1, 2, 3, 4, 5]\n",
    "\n",
    "ax.barh(labels, data)"
   ]
  },
  {
   "cell_type": "code",
   "execution_count": 3,
   "metadata": {},
   "outputs": [
    {
     "data": {
      "text/html": [
       "<div>\n",
       "<style scoped>\n",
       "    .dataframe tbody tr th:only-of-type {\n",
       "        vertical-align: middle;\n",
       "    }\n",
       "\n",
       "    .dataframe tbody tr th {\n",
       "        vertical-align: top;\n",
       "    }\n",
       "\n",
       "    .dataframe thead th {\n",
       "        text-align: right;\n",
       "    }\n",
       "</style>\n",
       "<table border=\"1\" class=\"dataframe\">\n",
       "  <thead>\n",
       "    <tr style=\"text-align: right;\">\n",
       "      <th></th>\n",
       "      <th>region_name</th>\n",
       "      <th>period_begin</th>\n",
       "      <th>period_end</th>\n",
       "      <th>total_homes_sold</th>\n",
       "      <th>inventory</th>\n",
       "      <th>active_listings</th>\n",
       "      <th>age_of_inventory</th>\n",
       "      <th>median_active_list_price</th>\n",
       "      <th>months_of_supply</th>\n",
       "    </tr>\n",
       "  </thead>\n",
       "  <tbody>\n",
       "    <tr>\n",
       "      <th>0</th>\n",
       "      <td>Appling County, GA</td>\n",
       "      <td>2020-04-27</td>\n",
       "      <td>2020-07-19</td>\n",
       "      <td>&lt;NA&gt;</td>\n",
       "      <td>1.0</td>\n",
       "      <td>1.0</td>\n",
       "      <td>222.7</td>\n",
       "      <td>136195.8</td>\n",
       "      <td>NaN</td>\n",
       "    </tr>\n",
       "    <tr>\n",
       "      <th>1</th>\n",
       "      <td>Tooele County, UT</td>\n",
       "      <td>2018-08-27</td>\n",
       "      <td>2018-11-18</td>\n",
       "      <td>325</td>\n",
       "      <td>NaN</td>\n",
       "      <td>NaN</td>\n",
       "      <td>NaN</td>\n",
       "      <td>NaN</td>\n",
       "      <td>NaN</td>\n",
       "    </tr>\n",
       "    <tr>\n",
       "      <th>2</th>\n",
       "      <td>Johnson County, TX</td>\n",
       "      <td>2019-09-23</td>\n",
       "      <td>2019-12-15</td>\n",
       "      <td>577</td>\n",
       "      <td>717.0</td>\n",
       "      <td>778.0</td>\n",
       "      <td>63.0</td>\n",
       "      <td>268737.6</td>\n",
       "      <td>17.095583</td>\n",
       "    </tr>\n",
       "    <tr>\n",
       "      <th>3</th>\n",
       "      <td>Holmes County, OH</td>\n",
       "      <td>2017-10-09</td>\n",
       "      <td>2017-12-31</td>\n",
       "      <td>22</td>\n",
       "      <td>52.0</td>\n",
       "      <td>54.0</td>\n",
       "      <td>109.4</td>\n",
       "      <td>115308.3</td>\n",
       "      <td>34.050000</td>\n",
       "    </tr>\n",
       "    <tr>\n",
       "      <th>4</th>\n",
       "      <td>Madison County, FL</td>\n",
       "      <td>2017-01-09</td>\n",
       "      <td>2017-04-02</td>\n",
       "      <td>12</td>\n",
       "      <td>54.0</td>\n",
       "      <td>55.0</td>\n",
       "      <td>151.2</td>\n",
       "      <td>158062.5</td>\n",
       "      <td>38.300000</td>\n",
       "    </tr>\n",
       "  </tbody>\n",
       "</table>\n",
       "</div>"
      ],
      "text/plain": [
       "          region_name period_begin period_end  total_homes_sold  inventory  \\\n",
       "0  Appling County, GA   2020-04-27 2020-07-19              <NA>        1.0   \n",
       "1   Tooele County, UT   2018-08-27 2018-11-18               325        NaN   \n",
       "2  Johnson County, TX   2019-09-23 2019-12-15               577      717.0   \n",
       "3   Holmes County, OH   2017-10-09 2017-12-31                22       52.0   \n",
       "4  Madison County, FL   2017-01-09 2017-04-02                12       54.0   \n",
       "\n",
       "   active_listings  age_of_inventory  median_active_list_price  \\\n",
       "0              1.0             222.7                  136195.8   \n",
       "1              NaN               NaN                       NaN   \n",
       "2            778.0              63.0                  268737.6   \n",
       "3             54.0             109.4                  115308.3   \n",
       "4             55.0             151.2                  158062.5   \n",
       "\n",
       "   months_of_supply  \n",
       "0               NaN  \n",
       "1               NaN  \n",
       "2         17.095583  \n",
       "3         34.050000  \n",
       "4         38.300000  "
      ]
     },
     "execution_count": 3,
     "metadata": {},
     "output_type": "execute_result"
    }
   ],
   "source": [
    "housing_raw = pd.read_csv('data/housing_data.csv',\n",
    "                          parse_dates=['period_begin', 'period_end'],\n",
    "                          dtype = {'total_homes_sold':\"Int32\", 'region_name':'category'})\n",
    "\n",
    "housing_raw.head()"
   ]
  },
  {
   "cell_type": "code",
   "execution_count": 6,
   "metadata": {},
   "outputs": [],
   "source": [
    "ca_housing = (\n",
    "    housing_raw\n",
    "    .loc[housing_raw['region_name'].str.contains(\"CA\")]\n",
    "    .assign(region_name = housing_raw['region_name'].str[0:-11])\n",
    "    .set_index('period_begin')\n",
    "    .sort_index()\n",
    "    \n",
    ")"
   ]
  },
  {
   "cell_type": "code",
   "execution_count": 7,
   "metadata": {},
   "outputs": [],
   "source": [
    "total_sold = (\n",
    "    ca_housing\n",
    "    .groupby('region_name')\n",
    "    .agg({'total_homes_sold':'sum'})\n",
    "    .sort_values(\"total_homes_sold\", ascending = False)\n",
    "    .iloc[:10]\n",
    ")"
   ]
  },
  {
   "cell_type": "code",
   "execution_count": 17,
   "metadata": {},
   "outputs": [
    {
     "data": {
      "image/png": "[encoded data removed]",
      "text/plain": [
       "<Figure size 432x288 with 1 Axes>"
      ]
     },
     "metadata": {
      "needs_background": "light"
     },
     "output_type": "display_data"
    }
   ],
   "source": [
    "fig, ax = plt.subplots()\n",
    "\n",
    "colors = [\n",
    "    'blue',\n",
    "    'blue',\n",
    "    'blue',\n",
    "    'blue',\n",
    "    'blue',\n",
    "    'red',\n",
    "    'orange',\n",
    "    'orange',\n",
    "    'orange',\n",
    "    'red'\n",
    "]\n",
    "\n",
    "ax.bar(x = total_sold.index, \n",
    "       height = total_sold['total_homes_sold'],\n",
    "       color = colors)\n",
    "\n",
    "plt.setp(ax.xaxis.get_majorticklabels(), rotation=30, ha = 'right')\n",
    "\n",
    "plt.show()"
   ]
  },
  {
   "cell_type": "code",
   "execution_count": 20,
   "metadata": {},
   "outputs": [
    {
     "data": {
      "image/png": "[encoded data removed]",
      "text/plain": [
       "<Figure size 432x288 with 1 Axes>"
      ]
     },
     "metadata": {
      "needs_background": "light"
     },
     "output_type": "display_data"
    }
   ],
   "source": [
    "import matplotlib.patches as mpatches\n",
    "\n",
    "fig, ax = plt.subplots()\n",
    "\n",
    "colors = [\n",
    "    'blue',\n",
    "    'blue',\n",
    "    'blue',\n",
    "    'blue',\n",
    "    'blue',\n",
    "    'red',\n",
    "    'orange',\n",
    "    'orange',\n",
    "    'orange',\n",
    "    'red'\n",
    "]\n",
    "\n",
    "ax.bar(x = total_sold.index, \n",
    "       height = total_sold['total_homes_sold'],\n",
    "       color = colors)\n",
    "\n",
    "socal = mpatches.Patch(color='blue', label='Socal')\n",
    "central = mpatches.Patch(color='red', label='Central Valley')\n",
    "bay = mpatches.Patch(color='orange', label = 'Bay Area')\n",
    "\n",
    "plt.legend(handles=[socal, central, bay], loc = 'upper right')\n",
    "\n",
    "plt.setp(ax.xaxis.get_majorticklabels(), rotation = 30, ha = 'right')\n",
    "\n",
    "plt.show()"
   ]
  },
  {
   "cell_type": "code",
   "execution_count": null,
   "metadata": {},
   "outputs": [],
   "source": []
  },
  {
   "cell_type": "code",
   "execution_count": null,
   "metadata": {},
   "outputs": [],
   "source": []
  }
 ],
 "metadata": {
  "kernelspec": {
   "display_name": "Python 3",
   "language": "python",
   "name": "python3"
  },
  "language_info": {
   "codemirror_mode": {
    "name": "ipython",
    "version": 3
   },
   "file_extension": ".py",
   "mimetype": "text/x-python",
   "name": "python",
   "nbconvert_exporter": "python",
   "pygments_lexer": "ipython3",
   "version": "3.10.6"
  },
  "orig_nbformat": 4
 },
 "nbformat": 4,
 "nbformat_minor": 2
}
