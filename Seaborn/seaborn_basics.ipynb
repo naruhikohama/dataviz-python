{
 "cells": [
  {
   "cell_type": "code",
   "execution_count": 1,
   "metadata": {},
   "outputs": [],
   "source": [
    "import pandas as pd\n",
    "import seaborn as sns"
   ]
  },
  {
   "cell_type": "code",
   "execution_count": 3,
   "metadata": {},
   "outputs": [],
   "source": [
    "housing_raw = pd.read_csv('../data/housing_data.csv',\n",
    "                          parse_dates=['period_begin', 'period_end'],\n",
    "                          dtype = {'total_homes_sold':\"Int32\", 'region_name':'category'})"
   ]
  },
  {
   "cell_type": "code",
   "execution_count": 4,
   "metadata": {},
   "outputs": [],
   "source": [
    "ca_housing = (housing_raw\n",
    "              .loc[(housing_raw['region_name'].str.contains('CA'))]\n",
    "              .assign(region_name = housing_raw['region_name'].str[0:-11]))"
   ]
  },
  {
   "cell_type": "code",
   "execution_count": 5,
   "metadata": {},
   "outputs": [],
   "source": [
    "ca_housing_pivot = ca_housing.pivot_table(index='period_begin',\n",
    "                                          columns='region_name',\n",
    "                                          values='median_active_list_price').assign(\n",
    "                                            CA_average = lambda x: x.mean(axis = 1)\n",
    "                                          )"
   ]
  },
  {
   "cell_type": "code",
   "execution_count": 8,
   "metadata": {},
   "outputs": [
    {
     "data": {
      "text/html": [
       "<div>\n",
       "<style scoped>\n",
       "    .dataframe tbody tr th:only-of-type {\n",
       "        vertical-align: middle;\n",
       "    }\n",
       "\n",
       "    .dataframe tbody tr th {\n",
       "        vertical-align: top;\n",
       "    }\n",
       "\n",
       "    .dataframe thead th {\n",
       "        text-align: right;\n",
       "    }\n",
       "</style>\n",
       "<table border=\"1\" class=\"dataframe\">\n",
       "  <thead>\n",
       "    <tr style=\"text-align: right;\">\n",
       "      <th>region_name</th>\n",
       "      <th>San Francisco</th>\n",
       "      <th>Los Angeles</th>\n",
       "      <th>San Diego</th>\n",
       "      <th>CA_average</th>\n",
       "    </tr>\n",
       "    <tr>\n",
       "      <th>period_begin</th>\n",
       "      <th></th>\n",
       "      <th></th>\n",
       "      <th></th>\n",
       "      <th></th>\n",
       "    </tr>\n",
       "  </thead>\n",
       "  <tbody>\n",
       "    <tr>\n",
       "      <th>2017-01-02</th>\n",
       "      <td>1229018.7</td>\n",
       "      <td>611561.0</td>\n",
       "      <td>618570.8</td>\n",
       "      <td>492258.437736</td>\n",
       "    </tr>\n",
       "    <tr>\n",
       "      <th>2017-01-09</th>\n",
       "      <td>1233393.7</td>\n",
       "      <td>614061.0</td>\n",
       "      <td>621737.5</td>\n",
       "      <td>493710.639623</td>\n",
       "    </tr>\n",
       "    <tr>\n",
       "      <th>2017-01-16</th>\n",
       "      <td>1239977.0</td>\n",
       "      <td>617311.0</td>\n",
       "      <td>625820.8</td>\n",
       "      <td>495369.416981</td>\n",
       "    </tr>\n",
       "    <tr>\n",
       "      <th>2017-01-23</th>\n",
       "      <td>1247977.0</td>\n",
       "      <td>620644.3</td>\n",
       "      <td>629491.6</td>\n",
       "      <td>497191.662264</td>\n",
       "    </tr>\n",
       "    <tr>\n",
       "      <th>2017-01-30</th>\n",
       "      <td>1253310.4</td>\n",
       "      <td>624541.6</td>\n",
       "      <td>632824.0</td>\n",
       "      <td>499286.207547</td>\n",
       "    </tr>\n",
       "    <tr>\n",
       "      <th>...</th>\n",
       "      <td>...</td>\n",
       "      <td>...</td>\n",
       "      <td>...</td>\n",
       "      <td>...</td>\n",
       "    </tr>\n",
       "    <tr>\n",
       "      <th>2022-03-28</th>\n",
       "      <td>1289875.0</td>\n",
       "      <td>906783.0</td>\n",
       "      <td>901649.6</td>\n",
       "      <td>686582.361818</td>\n",
       "    </tr>\n",
       "    <tr>\n",
       "      <th>2022-04-04</th>\n",
       "      <td>1289916.6</td>\n",
       "      <td>906783.1</td>\n",
       "      <td>902899.8</td>\n",
       "      <td>687180.140000</td>\n",
       "    </tr>\n",
       "    <tr>\n",
       "      <th>2022-04-11</th>\n",
       "      <td>1290250.0</td>\n",
       "      <td>906782.4</td>\n",
       "      <td>902899.8</td>\n",
       "      <td>687730.720000</td>\n",
       "    </tr>\n",
       "    <tr>\n",
       "      <th>2022-04-18</th>\n",
       "      <td>1294000.0</td>\n",
       "      <td>906786.5</td>\n",
       "      <td>901983.0</td>\n",
       "      <td>688234.945455</td>\n",
       "    </tr>\n",
       "    <tr>\n",
       "      <th>2022-04-25</th>\n",
       "      <td>1295750.0</td>\n",
       "      <td>906744.9</td>\n",
       "      <td>901916.4</td>\n",
       "      <td>688836.841818</td>\n",
       "    </tr>\n",
       "  </tbody>\n",
       "</table>\n",
       "<p>278 rows × 4 columns</p>\n",
       "</div>"
      ],
      "text/plain": [
       "region_name   San Francisco  Los Angeles  San Diego     CA_average\n",
       "period_begin                                                      \n",
       "2017-01-02        1229018.7     611561.0   618570.8  492258.437736\n",
       "2017-01-09        1233393.7     614061.0   621737.5  493710.639623\n",
       "2017-01-16        1239977.0     617311.0   625820.8  495369.416981\n",
       "2017-01-23        1247977.0     620644.3   629491.6  497191.662264\n",
       "2017-01-30        1253310.4     624541.6   632824.0  499286.207547\n",
       "...                     ...          ...        ...            ...\n",
       "2022-03-28        1289875.0     906783.0   901649.6  686582.361818\n",
       "2022-04-04        1289916.6     906783.1   902899.8  687180.140000\n",
       "2022-04-11        1290250.0     906782.4   902899.8  687730.720000\n",
       "2022-04-18        1294000.0     906786.5   901983.0  688234.945455\n",
       "2022-04-25        1295750.0     906744.9   901916.4  688836.841818\n",
       "\n",
       "[278 rows x 4 columns]"
      ]
     },
     "execution_count": 8,
     "metadata": {},
     "output_type": "execute_result"
    }
   ],
   "source": [
    "ca_housing_markets = ca_housing_pivot.loc[:, ['San Francisco',\n",
    "                                              'Los Angeles',\n",
    "                                              'San Diego',\n",
    "                                              'CA_average']]\n",
    "ca_housing_markets       "
   ]
  },
  {
   "cell_type": "code",
   "execution_count": 10,
   "metadata": {},
   "outputs": [
    {
     "data": {
      "image/png": "[encoded data removed]",
      "text/plain": [
       "<Figure size 432x288 with 1 Axes>"
      ]
     },
     "metadata": {
      "needs_background": "light"
     },
     "output_type": "display_data"
    }
   ],
   "source": [
    "sns.lineplot(\n",
    "    data=ca_housing_markets,\n",
    "    x = ca_housing_markets.index,\n",
    "    y = 'CA_average'\n",
    ")\n",
    "\n",
    "sns.despine()"
   ]
  },
  {
   "cell_type": "code",
   "execution_count": null,
   "metadata": {},
   "outputs": [],
   "source": []
  },
  {
   "cell_type": "code",
   "execution_count": null,
   "metadata": {},
   "outputs": [],
   "source": []
  },
  {
   "cell_type": "code",
   "execution_count": null,
   "metadata": {},
   "outputs": [],
   "source": []
  },
  {
   "cell_type": "code",
   "execution_count": null,
   "metadata": {},
   "outputs": [],
   "source": []
  }
 ],
 "metadata": {
  "kernelspec": {
   "display_name": "Python 3",
   "language": "python",
   "name": "python3"
  },
  "language_info": {
   "codemirror_mode": {
    "name": "ipython",
    "version": 3
   },
   "file_extension": ".py",
   "mimetype": "text/x-python",
   "name": "python",
   "nbconvert_exporter": "python",
   "pygments_lexer": "ipython3",
   "version": "3.10.4"
  },
  "orig_nbformat": 4
 },
 "nbformat": 4,
 "nbformat_minor": 2
}
